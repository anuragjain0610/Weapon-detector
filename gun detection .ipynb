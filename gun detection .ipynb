{
 "cells": [
  {
   "cell_type": "code",
   "execution_count": 1,
   "metadata": {},
   "outputs": [
    {
     "data": {
      "text/plain": [
       "13"
      ]
     },
     "execution_count": 1,
     "metadata": {},
     "output_type": "execute_result"
    }
   ],
   "source": [
    "import cv2\n",
    "# Cascade item name\n",
    "CASCADE_ITEM = 'GUN'\n",
    "\n",
    "# Load image file\n",
    "image = cv2.imread('img/gripshero.webp')\n",
    "\n",
    "# Convert the image to gray\n",
    "gray = cv2.cvtColor(image, cv2.COLOR_BGR2GRAY)\n",
    "\n",
    "# Load your cascade file\n",
    "cascade = cv2.CascadeClassifier('cascade.xml')\n",
    "\n",
    "# Detect cascade items and put rectangles around them\n",
    "rectangles = cascade.detectMultiScale(gray, scaleFactor=1.3, minNeighbors=10,\n",
    "minSize=(75, 75))\n",
    "\n",
    "for (i, (x, y, w, h)) in enumerate(rectangles):\n",
    "    # Surround cascade with rectangle\n",
    "    cv2.rectangle(image, (x, y), (x + w, y + h), (0, 0, 255), 2)\n",
    "    cv2.putText(image, CASCADE_ITEM + \" #{}\".format(i + 1), (x, y - 10),\n",
    "       cv2.FONT_HERSHEY_SIMPLEX, 0.55, (0, 0, 255), 2)\n",
    "\n",
    "# Display the cascade to the user\n",
    "#cv2.imwrite('proc.jpg',image)\n",
    "cv2.imshow(CASCADE_ITEM + \"s\", image)\n",
    "cv2.waitKey(0)\n",
    "\n",
    "# For more:\n",
    "# http://docs.opencv.org/2.4/doc/tutorials/objdetect/cascade_classifier/cascade_classifier.html\n",
    "# http://www.bogotobogo.com/python/OpenCV_Python/python_opencv3_Image_Object_Detection_Face_Detection_Haar_Cascade_Classifiers.php\n",
    "# https://stackoverflow.com/questions/30857908/face-detection-using-cascade-classifier-in-opencv-python\n"
   ]
  },
  {
   "cell_type": "code",
   "execution_count": null,
   "metadata": {},
   "outputs": [],
   "source": []
  },
  {
   "cell_type": "code",
   "execution_count": null,
   "metadata": {},
   "outputs": [],
   "source": []
  }
 ],
 "metadata": {
  "kernelspec": {
   "display_name": "Python 3",
   "language": "python",
   "name": "python3"
  },
  "language_info": {
   "codemirror_mode": {
    "name": "ipython",
    "version": 3
   },
   "file_extension": ".py",
   "mimetype": "text/x-python",
   "name": "python",
   "nbconvert_exporter": "python",
   "pygments_lexer": "ipython3",
   "version": "3.7.1"
  }
 },
 "nbformat": 4,
 "nbformat_minor": 2
}
